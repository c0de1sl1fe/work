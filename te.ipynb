{
 "cells": [
  {
   "cell_type": "code",
   "execution_count": 2,
   "metadata": {},
   "outputs": [
    {
     "name": "stdout",
     "output_type": "stream",
     "text": [
      "dataset\\dataset\\zebra.jpg\n"
     ]
    }
   ],
   "source": [
    "import os\n",
    "img_path = \"dataset\"\n",
    "img_name = 'zebra'\n",
    "\n",
    "path = os.path.join(os.path.join(\"dataset\", img_path), f'{img_name}.jpg')\n",
    "print(path)"
   ]
  }
 ],
 "metadata": {
  "kernelspec": {
   "display_name": "Python 3.10.7 ('.venv': venv)",
   "language": "python",
   "name": "python3"
  },
  "language_info": {
   "codemirror_mode": {
    "name": "ipython",
    "version": 3
   },
   "file_extension": ".py",
   "mimetype": "text/x-python",
   "name": "python",
   "nbconvert_exporter": "python",
   "pygments_lexer": "ipython3",
   "version": "3.10.7"
  },
  "orig_nbformat": 4,
  "vscode": {
   "interpreter": {
    "hash": "13c2004b808a13ffd42763221db33db80cdeefa6f80b3547befd3d478b583269"
   }
  }
 },
 "nbformat": 4,
 "nbformat_minor": 2
}
