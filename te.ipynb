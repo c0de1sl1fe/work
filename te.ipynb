{
 "cells": [
  {
   "cell_type": "code",
   "execution_count": 2,
   "metadata": {},
   "outputs": [
    {
     "name": "stdout",
     "output_type": "stream",
     "text": [
      "dataset\\dataset\\zebra.jpg\n"
     ]
    }
   ],
   "source": [
    "import os\n",
    "img_path = \"dataset\"\n",
    "img_name = 'zebra'\n",
    "\n",
    "path = os.path.join(os.path.join(\"dataset\", img_path), f'{img_name}.jpg')\n",
    "print(path)"
   ]
  },
  {
   "cell_type": "code",
   "execution_count": 4,
   "metadata": {},
   "outputs": [
    {
     "ename": "PermissionError",
     "evalue": "[Errno 13] Permission denied: 'test.csv'",
     "output_type": "error",
     "traceback": [
      "\u001b[1;31m---------------------------------------------------------------------------\u001b[0m",
      "\u001b[1;31mPermissionError\u001b[0m                           Traceback (most recent call last)",
      "Cell \u001b[1;32mIn [4], line 6\u001b[0m\n\u001b[0;32m      4\u001b[0m filename \u001b[39m=\u001b[39m \u001b[39m\"\u001b[39m\u001b[39mtest.csv\u001b[39m\u001b[39m\"\u001b[39m\n\u001b[0;32m      5\u001b[0m test \u001b[39m=\u001b[39m [[\u001b[39m1\u001b[39m,\u001b[39m'\u001b[39m\u001b[39mtest1\u001b[39m\u001b[39m'\u001b[39m, ], [\u001b[39m2\u001b[39m, \u001b[39m'\u001b[39m\u001b[39mtest2\u001b[39m\u001b[39m'\u001b[39m]]\n\u001b[1;32m----> 6\u001b[0m \u001b[39mwith\u001b[39;00m \u001b[39mopen\u001b[39;49m(filename, \u001b[39m'\u001b[39;49m\u001b[39mw\u001b[39;49m\u001b[39m'\u001b[39;49m, newline\u001b[39m=\u001b[39;49m \u001b[39m\"\u001b[39;49m\u001b[39m\"\u001b[39;49m) \u001b[39mas\u001b[39;00m file:\n\u001b[0;32m      7\u001b[0m         \u001b[39mfor\u001b[39;00m i \u001b[39min\u001b[39;00m test:\n\u001b[0;32m      8\u001b[0m                 writer \u001b[39m=\u001b[39m csv\u001b[39m.\u001b[39mwriter(file)\n",
      "\u001b[1;31mPermissionError\u001b[0m: [Errno 13] Permission denied: 'test.csv'"
     ]
    }
   ],
   "source": [
    "import csv\n",
    "from fileinput import filename\n",
    "\n",
    "\n",
    "filename = \"test_1.csv\"\n",
    "test = [        [1,'test1', ]   ,       [2, 'test2']     ]\n",
    "with open(filename, 'w', newline= \"\") as file:\n",
    "        for i in range(len(test)):\n",
    "                filename.write(str(test[0][0]) + \";\")\n",
    "        \n"
   ]
  },
  {
   "cell_type": "code",
   "execution_count": 6,
   "metadata": {},
   "outputs": [
    {
     "ename": "AttributeError",
     "evalue": "'str' object has no attribute 'write'",
     "output_type": "error",
     "traceback": [
      "\u001b[1;31m---------------------------------------------------------------------------\u001b[0m",
      "\u001b[1;31mAttributeError\u001b[0m                            Traceback (most recent call last)",
      "Cell \u001b[1;32mIn [6], line 4\u001b[0m\n\u001b[0;32m      2\u001b[0m \u001b[39mfor\u001b[39;00m day \u001b[39min\u001b[39;00m \u001b[39mrange\u001b[39m(\u001b[39m1\u001b[39m, \u001b[39m3\u001b[39m):\n\u001b[0;32m      3\u001b[0m     date_f \u001b[39m=\u001b[39m day\n\u001b[1;32m----> 4\u001b[0m     file_main\u001b[39m.\u001b[39;49mwrite(\u001b[39mstr\u001b[39m(date_f) \u001b[39m+\u001b[39m \u001b[39m\"\u001b[39m\u001b[39m;\u001b[39m\u001b[39m\"\u001b[39m)\n\u001b[0;32m      5\u001b[0m     file_main\u001b[39m.\u001b[39mwrite(\u001b[39m\"\u001b[39m\u001b[39m\\n\u001b[39;00m\u001b[39m\"\u001b[39m)\n",
      "\u001b[1;31mAttributeError\u001b[0m: 'str' object has no attribute 'write'"
     ]
    }
   ],
   "source": [
    "file_main = \"test_1.csv\"\n",
    "for day in range(1, 3):\n",
    "    date_f = day\n",
    "    file_main.write(str(date_f) + \";\")\n",
    "    file_main.write(\"\\n\")"
   ]
  },
  {
   "cell_type": "code",
   "execution_count": 1,
   "metadata": {},
   "outputs": [
    {
     "ename": "SystemExit",
     "evalue": "0",
     "output_type": "error",
     "traceback": [
      "An exception has occurred, use %tb to see the full traceback.\n",
      "\u001b[1;31mSystemExit\u001b[0m\u001b[1;31m:\u001b[0m 0\n"
     ]
    },
    {
     "name": "stderr",
     "output_type": "stream",
     "text": [
      "d:\\work\\.venv\\lib\\site-packages\\IPython\\core\\interactiveshell.py:3386: UserWarning: To exit: use 'exit', 'quit', or Ctrl-D.\n",
      "  warn(\"To exit: use 'exit', 'quit', or Ctrl-D.\", stacklevel=1)\n"
     ]
    }
   ],
   "source": [
    "import sys\n",
    "from PyQt5.QtWidgets import (QWidget, QToolTip,\n",
    "    QPushButton, QApplication)\n",
    "from PyQt5.QtGui import QFont\n",
    "\n",
    "\n",
    "class Example(QWidget):\n",
    "\n",
    "    def __init__(self):\n",
    "        super().__init__()\n",
    "\n",
    "        self.initUI()\n",
    "\n",
    "\n",
    "    def initUI(self):\n",
    "\n",
    "        QToolTip.setFont(QFont('SansSerif', 110))\n",
    "\n",
    "        self.setToolTip('This is a <b>QWidget</b> widget')\n",
    "\n",
    "        btn = QPushButton('Button', self)\n",
    "        btn.setToolTip('This is a <b>QPushButton</b> widget')\n",
    "        btn.resize(btn.sizeHint())\n",
    "        btn.move(50, 50)\n",
    "\n",
    "        self.setGeometry(300, 300, 300, 200)\n",
    "        self.setWindowTitle('Tooltips')\n",
    "        self.show()\n",
    "\n",
    "\n",
    "if __name__ == '__main__':\n",
    "\n",
    "    app = QApplication(sys.argv)\n",
    "    ex = Example()\n",
    "    sys.exit(app.exec_())"
   ]
  }
 ],
 "metadata": {
  "kernelspec": {
   "display_name": "Python 3.10.7 ('.venv': venv)",
   "language": "python",
   "name": "python3"
  },
  "language_info": {
   "codemirror_mode": {
    "name": "ipython",
    "version": 3
   },
   "file_extension": ".py",
   "mimetype": "text/x-python",
   "name": "python",
   "nbconvert_exporter": "python",
   "pygments_lexer": "ipython3",
   "version": "3.10.7"
  },
  "orig_nbformat": 4,
  "vscode": {
   "interpreter": {
    "hash": "13c2004b808a13ffd42763221db33db80cdeefa6f80b3547befd3d478b583269"
   }
  }
 },
 "nbformat": 4,
 "nbformat_minor": 2
}
