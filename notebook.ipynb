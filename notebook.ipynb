{
 "cells": [
  {
   "cell_type": "code",
   "execution_count": 1,
   "metadata": {},
   "outputs": [],
   "source": [
    "from bs4 import BeautifulSoup\n",
    "import requests\n",
    "import lxml\n",
    "from selenium.webdriver import Chrome\n",
    "from selenium.webdriver.common.keys import Keys\n",
    "from selenium.webdriver.support.ui import WebDriverWait as wait\n",
    "from selenium.webdriver.support import expected_conditions as EC\n",
    "from selenium.common.exceptions import NoSuchElementException\n",
    "from time import sleep, time\n",
    "import lxml\n",
    "from lxml import html\n",
    "from time import sleep\n",
    "import os"
   ]
  },
  {
   "cell_type": "code",
   "execution_count": 35,
   "metadata": {},
   "outputs": [
    {
     "name": "stdout",
     "output_type": "stream",
     "text": [
      "[]\n",
      "[]\n"
     ]
    }
   ],
   "source": [
    "str = \"zebra\"\n",
    "str.replace(' ', '%20')\n",
    "request = 'zebra'\n",
    "n = 1\n",
    "\n",
    "url = 'https://yandex.ru/images/search?text={request}&p={n}'\n",
    "data = []\n",
    "r = requests.get(url)\n",
    "\n",
    "soup = BeautifulSoup(r.text, 'lxml')\n",
    "\n",
    "test = soup.find_all('img', class_='serp-item__thumb justifier__thumb')\n",
    "print(test)\n",
    "for img in test:\n",
    "    \n",
    "    tmp = img.get('src')\n",
    "    data.append(tmp)\n",
    "\n",
    "    #data.append(img.get('src'))\n",
    "\n",
    "print(data)"
   ]
  },
  {
   "cell_type": "code",
   "execution_count": 25,
   "metadata": {},
   "outputs": [
    {
     "data": {
      "text/plain": [
       "'//avatars.mds.yandex.net/i?id=5cc1dd153f24180c61a67bbb1abd8a8d-5486589-images-thumbs&n=13'"
      ]
     },
     "execution_count": 25,
     "metadata": {},
     "output_type": "execute_result"
    }
   ],
   "source": [
    "\n",
    "\n",
    "\n",
    "request = 'zebra'\n",
    "n = 1\n",
    "url = f'https://yandex.ru/images/search?text={request}&p={n}'\n",
    "r = requests.get(url)\n",
    "soup = BeautifulSoup(r.text, 'lxml')\n",
    "test =  soup.find('img', class_='serp-item__thumb justifier__thumb').get('src')\n",
    "test"
   ]
  },
  {
   "cell_type": "code",
   "execution_count": 17,
   "metadata": {},
   "outputs": [
    {
     "ename": "AttributeError",
     "evalue": "'NoneType' object has no attribute 'get'",
     "output_type": "error",
     "traceback": [
      "\u001b[1;31m---------------------------------------------------------------------------\u001b[0m",
      "\u001b[1;31mAttributeError\u001b[0m                            Traceback (most recent call last)",
      "Cell \u001b[1;32mIn [17], line 6\u001b[0m\n\u001b[0;32m      4\u001b[0m src \u001b[38;5;241m=\u001b[39m requests\u001b[38;5;241m.\u001b[39mget(url)\n\u001b[0;32m      5\u001b[0m soup \u001b[38;5;241m=\u001b[39m BeautifulSoup(src\u001b[38;5;241m.\u001b[39mtext, \u001b[38;5;124m\"\u001b[39m\u001b[38;5;124mlxml\u001b[39m\u001b[38;5;124m\"\u001b[39m)\n\u001b[1;32m----> 6\u001b[0m \u001b[43msoup\u001b[49m\u001b[38;5;241;43m.\u001b[39;49m\u001b[43mfind\u001b[49m\u001b[43m(\u001b[49m\u001b[38;5;124;43m\"\u001b[39;49m\u001b[38;5;124;43ma\u001b[39;49m\u001b[38;5;124;43m\"\u001b[39;49m\u001b[43m,\u001b[49m\u001b[43m \u001b[49m\u001b[43mclass_\u001b[49m\u001b[38;5;241;43m=\u001b[39;49m\u001b[38;5;124;43m\"\u001b[39;49m\u001b[38;5;124;43mserp-item__link\u001b[39;49m\u001b[38;5;124;43m\"\u001b[39;49m\u001b[43m)\u001b[49m\u001b[38;5;241;43m.\u001b[39;49m\u001b[43mget\u001b[49m(\u001b[38;5;124m'\u001b[39m\u001b[38;5;124msrc\u001b[39m\u001b[38;5;124m'\u001b[39m)\n",
      "\u001b[1;31mAttributeError\u001b[0m: 'NoneType' object has no attribute 'get'"
     ]
    }
   ],
   "source": [
    "\n"
   ]
  },
  {
   "cell_type": "code",
   "execution_count": 15,
   "metadata": {},
   "outputs": [
    {
     "name": "stdout",
     "output_type": "stream",
     "text": [
      "1\n",
      "test len =  30 \n",
      "\n",
      "2\n",
      "test len =  30 \n",
      "\n",
      "3\n",
      "test len =  30 \n",
      "\n",
      "4\n",
      "test len =  30 \n",
      "\n",
      "5\n",
      "test len =  0 \n",
      "\n",
      "6\n",
      "test len =  0 \n",
      "\n",
      "7\n",
      "test len =  0 \n",
      "\n",
      "8\n",
      "test len =  0 \n",
      "\n",
      "9\n",
      "test len =  0 \n",
      "\n",
      "10\n",
      "test len =  0 \n",
      "\n",
      "11\n",
      "test len =  0 \n",
      "\n",
      "12\n",
      "test len =  0 \n",
      "\n",
      "13\n",
      "test len =  0 \n",
      "\n",
      "14\n",
      "test len =  0 \n",
      "\n",
      "15\n",
      "test len =  0 \n",
      "\n",
      "16\n",
      "test len =  0 \n",
      "\n",
      "17\n"
     ]
    },
    {
     "ename": "KeyboardInterrupt",
     "evalue": "",
     "output_type": "error",
     "traceback": [
      "\u001b[1;31m---------------------------------------------------------------------------\u001b[0m",
      "\u001b[1;31mKeyboardInterrupt\u001b[0m                         Traceback (most recent call last)",
      "Cell \u001b[1;32mIn [15], line 11\u001b[0m\n\u001b[0;32m      9\u001b[0m     sleep(\u001b[38;5;241m10\u001b[39m)\n\u001b[0;32m     10\u001b[0m \u001b[38;5;28;01melse\u001b[39;00m:\n\u001b[1;32m---> 11\u001b[0m     \u001b[43msleep\u001b[49m\u001b[43m(\u001b[49m\u001b[38;5;241;43m3\u001b[39;49m\u001b[43m)\u001b[49m\n\u001b[0;32m     12\u001b[0m soup \u001b[38;5;241m=\u001b[39m BeautifulSoup(r\u001b[38;5;241m.\u001b[39mtext, \u001b[38;5;124m'\u001b[39m\u001b[38;5;124mlxml\u001b[39m\u001b[38;5;124m'\u001b[39m)\n\u001b[0;32m     13\u001b[0m test \u001b[38;5;241m=\u001b[39m soup\u001b[38;5;241m.\u001b[39mfind_all(\u001b[38;5;124m'\u001b[39m\u001b[38;5;124mimg\u001b[39m\u001b[38;5;124m'\u001b[39m, class_\u001b[38;5;241m=\u001b[39m\u001b[38;5;124m'\u001b[39m\u001b[38;5;124mserp-item__thumb justifier__thumb\u001b[39m\u001b[38;5;124m'\u001b[39m)\n",
      "\u001b[1;31mKeyboardInterrupt\u001b[0m: "
     ]
    }
   ],
   "source": [
    "data = []\n",
    "request = 'zebra'\n",
    "request.replace(' ', '%20')\n",
    "for n in range(1, 32):\n",
    "    print(n)\n",
    "    url = f'https://yandex.ru/images/search?text={request}&p={n}'\n",
    "    r = requests.get(url)\n",
    "    if(n == 10):\n",
    "        sleep(10)\n",
    "    else:\n",
    "        sleep(3)\n",
    "    soup = BeautifulSoup(r.text, 'lxml')\n",
    "    test = soup.find_all('img', class_='serp-item__thumb justifier__thumb')\n",
    "    print('test len = ', len(test), \"\\n\")\n",
    "    for img in test:\n",
    "        data.append(img.get('src'))\n",
    "    \n",
    "\n",
    "print(len(data), \"\\n\")\n"
   ]
  },
  {
   "cell_type": "code",
   "execution_count": 6,
   "metadata": {},
   "outputs": [],
   "source": [
    "import shutil\n",
    "def create_dir(src):\n",
    "    if not os.path.isdir('dataset'):\n",
    "        os.mkdir('dataset')\n",
    "    #os.chdir('dataset')\n",
    "    if not os.path.exists(f'dataset/{src}'):\n",
    "        os.mkdir(f'dataset/{src}')\n",
    "\n",
    "request = 'zebra'\n",
    "create_dir(request)\n",
    "n = 1\n",
    "img_path = 'zebra'\n",
    "img_name = 'test'\n",
    "url = f'https://yandex.ru/images/search?text={request}&p={n}'\n",
    "\n",
    "r = requests.get(url)\n",
    "\n",
    "soup = BeautifulSoup(r.text, 'lxml')\n",
    "test = soup.find('img', class_='serp-item__thumb justifier__thumb').get('src')\n",
    "img_url = 'https:' + test\n",
    "\n",
    "src = requests.get(img_url)\n",
    "with open(f'{img_path}/{img_name}.jpg', 'wb') as file:\n",
    "    for iteration in src.iter_content(1024**2):\n",
    "        file.write(iteration)\n",
    "file.close()   "
   ]
  },
  {
   "cell_type": "code",
   "execution_count": 1,
   "metadata": {},
   "outputs": [
    {
     "ename": "NameError",
     "evalue": "name 'requests' is not defined",
     "output_type": "error",
     "traceback": [
      "\u001b[1;31m---------------------------------------------------------------------------\u001b[0m",
      "\u001b[1;31mNameError\u001b[0m                                 Traceback (most recent call last)",
      "Cell \u001b[1;32mIn [1], line 16\u001b[0m\n\u001b[0;32m     13\u001b[0m img_name \u001b[38;5;241m=\u001b[39m \u001b[38;5;124m'\u001b[39m\u001b[38;5;124mte11st\u001b[39m\u001b[38;5;124m'\u001b[39m\n\u001b[0;32m     14\u001b[0m url \u001b[38;5;241m=\u001b[39m \u001b[38;5;124mf\u001b[39m\u001b[38;5;124m'\u001b[39m\u001b[38;5;124mhttps://yandex.ru/images/search?text=\u001b[39m\u001b[38;5;132;01m{\u001b[39;00mrequest\u001b[38;5;132;01m}\u001b[39;00m\u001b[38;5;124m&p=\u001b[39m\u001b[38;5;132;01m{\u001b[39;00mn\u001b[38;5;132;01m}\u001b[39;00m\u001b[38;5;124m'\u001b[39m\n\u001b[1;32m---> 16\u001b[0m r \u001b[38;5;241m=\u001b[39m \u001b[43mrequests\u001b[49m\u001b[38;5;241m.\u001b[39mget(url)\n\u001b[0;32m     17\u001b[0m soup \u001b[38;5;241m=\u001b[39m BeautifulSoup(r\u001b[38;5;241m.\u001b[39mtext, \u001b[38;5;124m'\u001b[39m\u001b[38;5;124mlxml\u001b[39m\u001b[38;5;124m'\u001b[39m)\n\u001b[0;32m     18\u001b[0m test \u001b[38;5;241m=\u001b[39m soup\u001b[38;5;241m.\u001b[39mfind(\u001b[38;5;124m'\u001b[39m\u001b[38;5;124mimg\u001b[39m\u001b[38;5;124m'\u001b[39m, class_\u001b[38;5;241m=\u001b[39m\u001b[38;5;124m'\u001b[39m\u001b[38;5;124mserp-item__thumb justifier__thumb\u001b[39m\u001b[38;5;124m'\u001b[39m)\u001b[38;5;241m.\u001b[39mget(\u001b[38;5;124m'\u001b[39m\u001b[38;5;124msrc\u001b[39m\u001b[38;5;124m'\u001b[39m)\n",
      "\u001b[1;31mNameError\u001b[0m: name 'requests' is not defined"
     ]
    }
   ],
   "source": [
    "\n",
    "def create_dir(src):\n",
    "    if not os.path.isdir('dataset'):\n",
    "        os.mkdir('dataset')\n",
    "    if not os.path.exists(f'dataset/{src}'):\n",
    "        os.mkdir(f'dataset/{src}')\n",
    "\n",
    "request = 'zebra'\n",
    "\n",
    "create_dir(request)\n",
    "\n",
    "n = 1\n",
    "img_path = 'zebra'\n",
    "img_name = 'te11st'\n",
    "url = f'https://yandex.ru/images/search?text={request}&p={n}'\n",
    "\n",
    "r = requests.get(url)\n",
    "soup = BeautifulSoup(r.text, 'lxml')\n",
    "test = soup.find('img', class_='serp-item__thumb justifier__thumb').get('src')\n",
    "img_url = 'https:' + test\n",
    "print(img_url)\n",
    "response = requests.get(img_url)\n",
    "\n",
    "file = open(f\"dataset/{img_path}/{img_name}.jpg\", \"wb\")\n",
    "file.write(response.content)\n",
    "file.close()\n",
    "\n",
    "#os.chdir(oldpwd)"
   ]
  },
  {
   "cell_type": "code",
   "execution_count": 3,
   "metadata": {},
   "outputs": [
    {
     "name": "stdout",
     "output_type": "stream",
     "text": [
      "2\n",
      "2\n"
     ]
    }
   ],
   "source": [
    "print(2%10)\n",
    "print(22%10)"
   ]
  }
 ],
 "metadata": {
  "kernelspec": {
   "display_name": "Python 3.10.7 ('.venv': venv)",
   "language": "python",
   "name": "python3"
  },
  "language_info": {
   "codemirror_mode": {
    "name": "ipython",
    "version": 3
   },
   "file_extension": ".py",
   "mimetype": "text/x-python",
   "name": "python",
   "nbconvert_exporter": "python",
   "pygments_lexer": "ipython3",
   "version": "3.10.7"
  },
  "orig_nbformat": 4,
  "vscode": {
   "interpreter": {
    "hash": "13c2004b808a13ffd42763221db33db80cdeefa6f80b3547befd3d478b583269"
   }
  }
 },
 "nbformat": 4,
 "nbformat_minor": 2
}
