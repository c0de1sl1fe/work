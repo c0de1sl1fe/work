{
 "cells": [
  {
   "cell_type": "code",
   "execution_count": 7,
   "metadata": {},
   "outputs": [
    {
     "name": "stderr",
     "output_type": "stream",
     "text": [
      "C:\\Users\\every\\AppData\\Local\\Temp\\ipykernel_12708\\708065494.py:16: DeprecationWarning: executable_path has been deprecated, please pass in a Service object\n",
      "  driver = Chrome('C:/Users/every/Downloads/chromedriver_win32/chromedriver.exe')\n"
     ]
    },
    {
     "ename": "NoSuchWindowException",
     "evalue": "Message: no such window: target window already closed\nfrom unknown error: web view not found\n  (Session info: chrome=105.0.5195.127)\nStacktrace:\nBacktrace:\n\tOrdinal0 [0x0033DF13+2219795]\n\tOrdinal0 [0x002D2841+1779777]\n\tOrdinal0 [0x001E423D+803389]\n\tOrdinal0 [0x001CC70A+706314]\n\tOrdinal0 [0x00231502+1119490]\n\tOrdinal0 [0x0023E8FA+1173754]\n\tOrdinal0 [0x0022E616+1107478]\n\tOrdinal0 [0x00207F89+950153]\n\tOrdinal0 [0x00208F56+954198]\n\tGetHandleVerifier [0x00632CB2+3040210]\n\tGetHandleVerifier [0x00622BB4+2974420]\n\tGetHandleVerifier [0x003D6A0A+565546]\n\tGetHandleVerifier [0x003D5680+560544]\n\tOrdinal0 [0x002D9A5C+1808988]\n\tOrdinal0 [0x002DE3A8+1827752]\n\tOrdinal0 [0x002DE495+1827989]\n\tOrdinal0 [0x002E80A4+1867940]\n\tBaseThreadInitThunk [0x76FAFA29+25]\n\tRtlGetAppContainerNamedObjectPath [0x77D57B5E+286]\n\tRtlGetAppContainerNamedObjectPath [0x77D57B2E+238]\n",
     "output_type": "error",
     "traceback": [
      "\u001b[1;31m---------------------------------------------------------------------------\u001b[0m",
      "\u001b[1;31mNoSuchWindowException\u001b[0m                     Traceback (most recent call last)",
      "Cell \u001b[1;32mIn [7], line 24\u001b[0m\n\u001b[0;32m     20\u001b[0m last_height \u001b[38;5;241m=\u001b[39m driver\u001b[38;5;241m.\u001b[39mexecute_script(\u001b[38;5;124m\"\u001b[39m\u001b[38;5;124mreturn document.body.scrollHeight\u001b[39m\u001b[38;5;124m\"\u001b[39m)\n\u001b[0;32m     22\u001b[0m \u001b[38;5;28;01mwhile\u001b[39;00m \u001b[38;5;28;01mTrue\u001b[39;00m:\n\u001b[0;32m     23\u001b[0m     \u001b[38;5;66;03m# Scroll down to bottom\u001b[39;00m\n\u001b[1;32m---> 24\u001b[0m     \u001b[43mdriver\u001b[49m\u001b[38;5;241;43m.\u001b[39;49m\u001b[43mexecute_script\u001b[49m\u001b[43m(\u001b[49m\u001b[38;5;124;43m\"\u001b[39;49m\u001b[38;5;124;43mwindow.scrollTo(0, document.body.scrollHeight);\u001b[39;49m\u001b[38;5;124;43m\"\u001b[39;49m\u001b[43m)\u001b[49m\n\u001b[0;32m     26\u001b[0m     \u001b[38;5;66;03m# Wait to load page\u001b[39;00m\n\u001b[0;32m     27\u001b[0m    \n\u001b[0;32m     28\u001b[0m \n\u001b[0;32m     29\u001b[0m     \u001b[38;5;66;03m# Calculate new scroll height and compare with last scroll height\u001b[39;00m\n\u001b[0;32m     30\u001b[0m     new_height \u001b[38;5;241m=\u001b[39m driver\u001b[38;5;241m.\u001b[39mexecute_script(\u001b[38;5;124m\"\u001b[39m\u001b[38;5;124mreturn document.body.scrollHeight\u001b[39m\u001b[38;5;124m\"\u001b[39m)\n",
      "File \u001b[1;32md:\\work\\.venv\\lib\\site-packages\\selenium\\webdriver\\remote\\webdriver.py:491\u001b[0m, in \u001b[0;36mWebDriver.execute_script\u001b[1;34m(self, script, *args)\u001b[0m\n\u001b[0;32m    488\u001b[0m converted_args \u001b[39m=\u001b[39m \u001b[39mlist\u001b[39m(args)\n\u001b[0;32m    489\u001b[0m command \u001b[39m=\u001b[39m Command\u001b[39m.\u001b[39mW3C_EXECUTE_SCRIPT\n\u001b[1;32m--> 491\u001b[0m \u001b[39mreturn\u001b[39;00m \u001b[39mself\u001b[39;49m\u001b[39m.\u001b[39;49mexecute(command, {\n\u001b[0;32m    492\u001b[0m     \u001b[39m'\u001b[39;49m\u001b[39mscript\u001b[39;49m\u001b[39m'\u001b[39;49m: script,\n\u001b[0;32m    493\u001b[0m     \u001b[39m'\u001b[39;49m\u001b[39margs\u001b[39;49m\u001b[39m'\u001b[39;49m: converted_args})[\u001b[39m'\u001b[39m\u001b[39mvalue\u001b[39m\u001b[39m'\u001b[39m]\n",
      "File \u001b[1;32md:\\work\\.venv\\lib\\site-packages\\selenium\\webdriver\\remote\\webdriver.py:428\u001b[0m, in \u001b[0;36mWebDriver.execute\u001b[1;34m(self, driver_command, params)\u001b[0m\n\u001b[0;32m    426\u001b[0m response \u001b[39m=\u001b[39m \u001b[39mself\u001b[39m\u001b[39m.\u001b[39mcommand_executor\u001b[39m.\u001b[39mexecute(driver_command, params)\n\u001b[0;32m    427\u001b[0m \u001b[39mif\u001b[39;00m response:\n\u001b[1;32m--> 428\u001b[0m     \u001b[39mself\u001b[39;49m\u001b[39m.\u001b[39;49merror_handler\u001b[39m.\u001b[39;49mcheck_response(response)\n\u001b[0;32m    429\u001b[0m     response[\u001b[39m'\u001b[39m\u001b[39mvalue\u001b[39m\u001b[39m'\u001b[39m] \u001b[39m=\u001b[39m \u001b[39mself\u001b[39m\u001b[39m.\u001b[39m_unwrap_value(\n\u001b[0;32m    430\u001b[0m         response\u001b[39m.\u001b[39mget(\u001b[39m'\u001b[39m\u001b[39mvalue\u001b[39m\u001b[39m'\u001b[39m, \u001b[39mNone\u001b[39;00m))\n\u001b[0;32m    431\u001b[0m     \u001b[39mreturn\u001b[39;00m response\n",
      "File \u001b[1;32md:\\work\\.venv\\lib\\site-packages\\selenium\\webdriver\\remote\\errorhandler.py:243\u001b[0m, in \u001b[0;36mErrorHandler.check_response\u001b[1;34m(self, response)\u001b[0m\n\u001b[0;32m    241\u001b[0m         alert_text \u001b[39m=\u001b[39m value[\u001b[39m'\u001b[39m\u001b[39malert\u001b[39m\u001b[39m'\u001b[39m]\u001b[39m.\u001b[39mget(\u001b[39m'\u001b[39m\u001b[39mtext\u001b[39m\u001b[39m'\u001b[39m)\n\u001b[0;32m    242\u001b[0m     \u001b[39mraise\u001b[39;00m exception_class(message, screen, stacktrace, alert_text)  \u001b[39m# type: ignore[call-arg]  # mypy is not smart enough here\u001b[39;00m\n\u001b[1;32m--> 243\u001b[0m \u001b[39mraise\u001b[39;00m exception_class(message, screen, stacktrace)\n",
      "\u001b[1;31mNoSuchWindowException\u001b[0m: Message: no such window: target window already closed\nfrom unknown error: web view not found\n  (Session info: chrome=105.0.5195.127)\nStacktrace:\nBacktrace:\n\tOrdinal0 [0x0033DF13+2219795]\n\tOrdinal0 [0x002D2841+1779777]\n\tOrdinal0 [0x001E423D+803389]\n\tOrdinal0 [0x001CC70A+706314]\n\tOrdinal0 [0x00231502+1119490]\n\tOrdinal0 [0x0023E8FA+1173754]\n\tOrdinal0 [0x0022E616+1107478]\n\tOrdinal0 [0x00207F89+950153]\n\tOrdinal0 [0x00208F56+954198]\n\tGetHandleVerifier [0x00632CB2+3040210]\n\tGetHandleVerifier [0x00622BB4+2974420]\n\tGetHandleVerifier [0x003D6A0A+565546]\n\tGetHandleVerifier [0x003D5680+560544]\n\tOrdinal0 [0x002D9A5C+1808988]\n\tOrdinal0 [0x002DE3A8+1827752]\n\tOrdinal0 [0x002DE495+1827989]\n\tOrdinal0 [0x002E80A4+1867940]\n\tBaseThreadInitThunk [0x76FAFA29+25]\n\tRtlGetAppContainerNamedObjectPath [0x77D57B5E+286]\n\tRtlGetAppContainerNamedObjectPath [0x77D57B2E+238]\n"
     ]
    }
   ],
   "source": [
    "from bs4 import BeautifulSoup\n",
    "import requests\n",
    "import lxml\n",
    "from selenium.webdriver import Chrome\n",
    "from selenium.webdriver.common.keys import Keys\n",
    "from selenium.webdriver.support.ui import WebDriverWait as wait\n",
    "from selenium.webdriver.support import expected_conditions as EC\n",
    "from selenium.common.exceptions import NoSuchElementException\n",
    "from time import sleep, time\n",
    "import lxml\n",
    "from lxml import html\n",
    "url = \"https://yandex.ru/images/search?text=zebra\"\n",
    "r = requests.get(url);\n",
    "r.text\n",
    "\n",
    "driver = Chrome('C:/Users/every/Downloads/chromedriver_win32/chromedriver.exe')\n",
    "driver.get(url)\n",
    "SCROLL_PAUSE_TIME = 0.5\n",
    "time\n",
    "last_height = driver.execute_script(\"return document.body.scrollHeight\")\n",
    "\n",
    "while True:\n",
    "    # Scroll down to bottom\n",
    "    driver.execute_script(\"window.scrollTo(0, document.body.scrollHeight);\")\n",
    "\n",
    "    # Wait to load page\n",
    "   \n",
    "\n",
    "    # Calculate new scroll height and compare with last scroll height\n",
    "    new_height = driver.execute_script(\"return document.body.scrollHeight\")\n"
   ]
  }
 ],
 "metadata": {
  "kernelspec": {
   "display_name": "Python 3.10.7 ('.venv': venv)",
   "language": "python",
   "name": "python3"
  },
  "language_info": {
   "codemirror_mode": {
    "name": "ipython",
    "version": 3
   },
   "file_extension": ".py",
   "mimetype": "text/x-python",
   "name": "python",
   "nbconvert_exporter": "python",
   "pygments_lexer": "ipython3",
   "version": "3.10.7"
  },
  "orig_nbformat": 4,
  "vscode": {
   "interpreter": {
    "hash": "13c2004b808a13ffd42763221db33db80cdeefa6f80b3547befd3d478b583269"
   }
  }
 },
 "nbformat": 4,
 "nbformat_minor": 2
}
